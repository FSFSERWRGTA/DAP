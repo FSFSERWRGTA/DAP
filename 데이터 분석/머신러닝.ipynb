{
 "cells": [
  {
   "cell_type": "code",
   "execution_count": 3,
   "metadata": {},
   "outputs": [
    {
     "name": "stderr",
     "output_type": "stream",
     "text": [
      "'apt-get'��(��) ���� �Ǵ� �ܺ� ����, ������ �� �ִ� ���α׷�, �Ǵ�\n",
      "��ġ ������ �ƴմϴ�.\n",
      "findfont: Font family 'KNU TRUTH TTF' not found.\n",
      "findfont: Font family 'KNU TRUTH TTF' not found.\n",
      "findfont: Font family 'KNU TRUTH TTF' not found.\n",
      "findfont: Font family 'KNU TRUTH TTF' not found.\n",
      "findfont: Font family 'KNU TRUTH TTF' not found.\n",
      "findfont: Font family 'KNU TRUTH TTF' not found.\n",
      "findfont: Font family 'KNU TRUTH TTF' not found.\n",
      "findfont: Font family 'KNU TRUTH TTF' not found.\n",
      "findfont: Font family 'KNU TRUTH TTF' not found.\n",
      "findfont: Font family 'KNU TRUTH TTF' not found.\n",
      "findfont: Font family 'KNU TRUTH TTF' not found.\n",
      "findfont: Font family 'KNU TRUTH TTF' not found.\n",
      "findfont: Font family 'KNU TRUTH TTF' not found.\n",
      "findfont: Font family 'KNU TRUTH TTF' not found.\n",
      "findfont: Font family 'KNU TRUTH TTF' not found.\n",
      "findfont: Font family 'KNU TRUTH TTF' not found.\n",
      "findfont: Font family 'KNU TRUTH TTF' not found.\n",
      "findfont: Font family 'KNU TRUTH TTF' not found.\n",
      "findfont: Font family 'KNU TRUTH TTF' not found.\n",
      "findfont: Font family 'KNU TRUTH TTF' not found.\n",
      "findfont: Font family 'KNU TRUTH TTF' not found.\n",
      "findfont: Font family 'KNU TRUTH TTF' not found.\n",
      "findfont: Font family 'KNU TRUTH TTF' not found.\n",
      "findfont: Font family 'KNU TRUTH TTF' not found.\n",
      "findfont: Font family 'KNU TRUTH TTF' not found.\n",
      "findfont: Font family 'KNU TRUTH TTF' not found.\n",
      "findfont: Font family 'KNU TRUTH TTF' not found.\n",
      "findfont: Font family 'KNU TRUTH TTF' not found.\n",
      "findfont: Font family 'KNU TRUTH TTF' not found.\n",
      "findfont: Font family 'KNU TRUTH TTF' not found.\n"
     ]
    },
    {
     "data": {
      "image/png": "[encoded data removed]",
      "text/plain": [
       "<Figure size 500x100 with 1 Axes>"
      ]
     },
     "metadata": {},
     "output_type": "display_data"
    }
   ],
   "source": [
    "import numpy as np\n",
    "import pandas as pd\n",
    "import matplotlib.pyplot as plt\n",
    "import warnings\n",
    "warnings.filterwarnings('ignore')\n",
    "!apt-get install fonts-nanum\n",
    "from matplotlib import font_manager, rc\n",
    "\n",
    "from scipy.stats import chisquare\n",
    "\n",
    "font_path = 'KNU TRUTH.ttf' #한글 폰트 경로\n",
    "font_name = font_manager.FontProperties(fname=font_path).get_name()\n",
    "rc('font', family = font_name)\n",
    "\n",
    "plt.figure(figsize=(5,1))\n",
    "plt.title('한글 확인하기', fontsize=20)\n",
    "plt.show()\n",
    "\n",
    "import csv"
   ]
  },
  {
   "cell_type": "markdown",
   "metadata": {},
   "source": []
  }
 ],
 "metadata": {
  "kernelspec": {
   "display_name": "Python 3",
   "language": "python",
   "name": "python3"
  },
  "language_info": {
   "codemirror_mode": {
    "name": "ipython",
    "version": 3
   },
   "file_extension": ".py",
   "mimetype": "text/x-python",
   "name": "python",
   "nbconvert_exporter": "python",
   "pygments_lexer": "ipython3",
   "version": "3.10.6"
  }
 },
 "nbformat": 4,
 "nbformat_minor": 2
}
